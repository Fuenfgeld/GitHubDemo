{
  "nbformat": 4,
  "nbformat_minor": 0,
  "metadata": {
    "colab": {
      "name": "Untitled0.ipynb",
      "provenance": [],
      "include_colab_link": true
    },
    "kernelspec": {
      "name": "python3",
      "display_name": "Python 3"
    },
    "language_info": {
      "name": "python"
    }
  },
  "cells": [
    {
      "cell_type": "markdown",
      "metadata": {
        "id": "view-in-github",
        "colab_type": "text"
      },
      "source": [
        "<a href=\"https://colab.research.google.com/github/Fuenfgeld/GitHubDemo/blob/main/Untitled0.ipynb\" target=\"_parent\"><img src=\"https://colab.research.google.com/assets/colab-badge.svg\" alt=\"Open In Colab\"/></a>"
      ]
    },
    {
      "cell_type": "code",
      "execution_count": 1,
      "metadata": {
        "colab": {
          "base_uri": "https://localhost:8080/"
        },
        "id": "P80WrfhbJO6d",
        "outputId": "ac4d2c34-a550-45c5-84fe-2999f18eda80"
      },
      "outputs": [
        {
          "output_type": "stream",
          "name": "stdout",
          "text": [
            "Cloning into 'GitHubDemo'...\n",
            "remote: Enumerating objects: 35, done.\u001b[K\n",
            "remote: Counting objects: 100% (35/35), done.\u001b[K\n",
            "remote: Compressing objects: 100% (27/27), done.\u001b[K\n",
            "remote: Total 35 (delta 10), reused 9 (delta 1), pack-reused 0\u001b[K\n",
            "Unpacking objects: 100% (35/35), 1.53 MiB | 2.41 MiB/s, done.\n"
          ]
        }
      ],
      "source": [
        "!git clone https://github.com/Fuenfgeld/GitHubDemo.git"
      ]
    },
    {
      "cell_type": "code",
      "source": [
        "!pwd"
      ],
      "metadata": {
        "id": "u7OUHn1X3a0N",
        "outputId": "dad665cf-7c4b-4f2d-c179-00ac9896fdb8",
        "colab": {
          "base_uri": "https://localhost:8080/"
        }
      },
      "execution_count": 4,
      "outputs": [
        {
          "output_type": "stream",
          "name": "stdout",
          "text": [
            "/content\n"
          ]
        }
      ]
    },
    {
      "cell_type": "code",
      "source": [
        "!ls"
      ],
      "metadata": {
        "id": "p-AopIF63kF-",
        "outputId": "31c90d37-f643-4515-8837-5ea5aebb40d9",
        "colab": {
          "base_uri": "https://localhost:8080/"
        }
      },
      "execution_count": 8,
      "outputs": [
        {
          "output_type": "stream",
          "name": "stdout",
          "text": [
            "GitHubDemo  sample_data\n"
          ]
        }
      ]
    },
    {
      "cell_type": "code",
      "source": [
        "%cd GitHubDemo"
      ],
      "metadata": {
        "id": "OK1BGCWa3p57",
        "outputId": "a2c32888-3f65-49f2-b0b8-b5c409f1374b",
        "colab": {
          "base_uri": "https://localhost:8080/"
        }
      },
      "execution_count": 10,
      "outputs": [
        {
          "output_type": "stream",
          "name": "stdout",
          "text": [
            "/content/GitHubDemo\n"
          ]
        }
      ]
    },
    {
      "cell_type": "code",
      "source": [
        "import newStuff"
      ],
      "metadata": {
        "id": "y-kUc89K2siF"
      },
      "execution_count": 11,
      "outputs": []
    },
    {
      "cell_type": "code",
      "source": [
        "newStuff.dosomething()"
      ],
      "metadata": {
        "id": "b5j9lY9t22bN",
        "outputId": "2e8b9796-c336-4611-846c-97388baffd46",
        "colab": {
          "base_uri": "https://localhost:8080/"
        }
      },
      "execution_count": 12,
      "outputs": [
        {
          "output_type": "stream",
          "name": "stdout",
          "text": [
            "i am a lib\n"
          ]
        }
      ]
    },
    {
      "cell_type": "code",
      "source": [],
      "metadata": {
        "id": "MJ8dTXSy4VGv"
      },
      "execution_count": null,
      "outputs": []
    }
  ]
}